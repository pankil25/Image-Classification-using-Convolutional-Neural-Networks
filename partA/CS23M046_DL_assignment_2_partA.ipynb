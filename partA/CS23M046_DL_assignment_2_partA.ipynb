{
 "cells": [
  {
   "cell_type": "markdown",
   "id": "1ae12e3b",
   "metadata": {
    "papermill": {
     "duration": 0.002562,
     "end_time": "2024-04-01T19:49:32.141444",
     "exception": false,
     "start_time": "2024-04-01T19:49:32.138882",
     "status": "completed"
    },
    "tags": []
   },
   "source": [
    "# ****Question-1****"
   ]
  },
  {
   "cell_type": "code",
   "execution_count": 1,
   "id": "45c32c63",
   "metadata": {
    "_cell_guid": "b1076dfc-b9ad-4769-8c92-a6c4dae69d19",
    "_uuid": "8f2839f25d086af736a60e9eeb907d3b93b6e0e5",
    "execution": {
     "iopub.execute_input": "2024-04-01T19:49:32.147773Z",
     "iopub.status.busy": "2024-04-01T19:49:32.147396Z",
     "iopub.status.idle": "2024-04-01T19:49:36.397428Z",
     "shell.execute_reply": "2024-04-01T19:49:36.396184Z"
    },
    "papermill": {
     "duration": 4.257134,
     "end_time": "2024-04-01T19:49:36.400879",
     "exception": false,
     "start_time": "2024-04-01T19:49:32.143745",
     "status": "completed"
    },
    "tags": []
   },
   "outputs": [
    {
     "name": "stdout",
     "output_type": "stream",
     "text": [
      "CNN(\n",
      "  (conv_layers): Sequential(\n",
      "    (0): Conv2d(3, 32, kernel_size=(3, 3), stride=(1, 1), padding=(1, 1))\n",
      "    (1): ReLU(inplace=True)\n",
      "    (2): MaxPool2d(kernel_size=2, stride=2, padding=0, dilation=1, ceil_mode=False)\n",
      "    (3): Conv2d(32, 32, kernel_size=(3, 3), stride=(1, 1), padding=(1, 1))\n",
      "    (4): ReLU(inplace=True)\n",
      "    (5): MaxPool2d(kernel_size=2, stride=2, padding=0, dilation=1, ceil_mode=False)\n",
      "    (6): Conv2d(32, 32, kernel_size=(3, 3), stride=(1, 1), padding=(1, 1))\n",
      "    (7): ReLU(inplace=True)\n",
      "    (8): MaxPool2d(kernel_size=2, stride=2, padding=0, dilation=1, ceil_mode=False)\n",
      "    (9): Conv2d(32, 32, kernel_size=(3, 3), stride=(1, 1), padding=(1, 1))\n",
      "    (10): ReLU(inplace=True)\n",
      "    (11): MaxPool2d(kernel_size=2, stride=2, padding=0, dilation=1, ceil_mode=False)\n",
      "    (12): Conv2d(32, 32, kernel_size=(3, 3), stride=(1, 1), padding=(1, 1))\n",
      "    (13): ReLU(inplace=True)\n",
      "    (14): MaxPool2d(kernel_size=2, stride=2, padding=0, dilation=1, ceil_mode=False)\n",
      "  )\n",
      "  (fc_layers): Sequential(\n",
      "    (0): Linear(in_features=12544, out_features=1024, bias=True)\n",
      "    (1): ReLU(inplace=True)\n",
      "    (2): Linear(in_features=1024, out_features=10, bias=True)\n",
      "  )\n",
      ")\n"
     ]
    }
   ],
   "source": [
    "import torch\n",
    "import torch.nn as nn\n",
    "import torch.nn.functional as F\n",
    "\n",
    "class CNN(nn.Module):\n",
    "    def __init__(self, input_shape, num_classes, num_filters, filter_size, activation_conv, activation_dense, num_neurons_dense):\n",
    "        super(CNN, self).__init__()\n",
    "        self.conv_layers = self._create_conv_layers(input_shape[0], num_filters, filter_size, activation_conv)\n",
    "        self.fc_layers = nn.Sequential(\n",
    "            nn.Linear(256 * 7 * 7, num_neurons_dense),\n",
    "            activation_dense,\n",
    "            nn.Linear(num_neurons_dense, num_classes)\n",
    "        )\n",
    "\n",
    "    def _create_conv_layers(self, input_channels, num_filters, filter_size, activation_conv):\n",
    "        layers = []\n",
    "        in_channels = input_channels\n",
    "        for _ in range(5):  # Reduced to 5 convolutional layers\n",
    "            layers += [\n",
    "                nn.Conv2d(in_channels, num_filters, filter_size, padding=1),\n",
    "                activation_conv,\n",
    "                nn.MaxPool2d(kernel_size=2, stride=2)\n",
    "            ]\n",
    "            in_channels = num_filters\n",
    "        return nn.Sequential(*layers)\n",
    "\n",
    "    def forward(self, x):\n",
    "        x = self.conv_layers(x)\n",
    "        x = x.view(x.size(0), -1)\n",
    "        x = self.fc_layers(x)\n",
    "        return x\n",
    "\n",
    "# Example parameters\n",
    "input_shape = (3, 224, 224)  # Example shape compatible with iNaturalist dataset\n",
    "num_classes = 10  # Number of classes in iNaturalist dataset\n",
    "num_filters = 32  # Number of filters in convolutional layers\n",
    "filter_size = 3  # Size of filters\n",
    "\n",
    "# Define activation functions for convolutional and dense layers\n",
    "activation_conv = nn.ReLU(inplace=True)  # Activation function for convolutional layers\n",
    "activation_dense = nn.ReLU(inplace=True)  # Activation function for dense layer\n",
    "\n",
    "num_neurons_dense = 1024  # Number of neurons in dense layer\n",
    "\n",
    "# Create the model\n",
    "model = CNN(input_shape, num_classes, num_filters, filter_size, activation_conv, activation_dense, num_neurons_dense)\n",
    "\n",
    "# Display model summary\n",
    "print(model)\n",
    "\n",
    "\n"
   ]
  }
 ],
 "metadata": {
  "kaggle": {
   "accelerator": "none",
   "dataSources": [
    {
     "datasetId": 4709619,
     "sourceId": 7998295,
     "sourceType": "datasetVersion"
    }
   ],
   "dockerImageVersionId": 30673,
   "isGpuEnabled": false,
   "isInternetEnabled": false,
   "language": "python",
   "sourceType": "notebook"
  },
  "kernelspec": {
   "display_name": "Python 3",
   "language": "python",
   "name": "python3"
  },
  "language_info": {
   "codemirror_mode": {
    "name": "ipython",
    "version": 3
   },
   "file_extension": ".py",
   "mimetype": "text/x-python",
   "name": "python",
   "nbconvert_exporter": "python",
   "pygments_lexer": "ipython3",
   "version": "3.10.13"
  },
  "papermill": {
   "default_parameters": {},
   "duration": 8.388518,
   "end_time": "2024-04-01T19:49:37.327262",
   "environment_variables": {},
   "exception": null,
   "input_path": "__notebook__.ipynb",
   "output_path": "__notebook__.ipynb",
   "parameters": {},
   "start_time": "2024-04-01T19:49:28.938744",
   "version": "2.5.0"
  }
 },
 "nbformat": 4,
 "nbformat_minor": 5
}
