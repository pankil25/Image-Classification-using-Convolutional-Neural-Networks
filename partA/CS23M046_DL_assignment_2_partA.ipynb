{
  "nbformat": 4,
  "nbformat_minor": 0,
  "metadata": {
    "colab": {
      "provenance": [],
      "authorship_tag": "ABX9TyMUM/jx8fh/kFsn/rZJ0TTX"
    },
    "kernelspec": {
      "name": "python3",
      "display_name": "Python 3"
    },
    "language_info": {
      "name": "python"
    }
  },
  "cells": [
    {
      "cell_type": "code",
      "execution_count": 1,
      "metadata": {
        "colab": {
          "base_uri": "https://localhost:8080/"
        },
        "id": "pYA41i9uKQCD",
        "outputId": "18fe31a9-fa99-43e0-b69d-63b50713cf07"
      },
      "outputs": [
        {
          "output_type": "stream",
          "name": "stdout",
          "text": [
            "CNN(\n",
            "  (conv_layers): Sequential(\n",
            "    (0): Conv2d(3, 32, kernel_size=(3, 3), stride=(1, 1), padding=(1, 1))\n",
            "    (1): ReLU(inplace=True)\n",
            "    (2): MaxPool2d(kernel_size=2, stride=2, padding=0, dilation=1, ceil_mode=False)\n",
            "    (3): Conv2d(32, 32, kernel_size=(3, 3), stride=(1, 1), padding=(1, 1))\n",
            "    (4): ReLU(inplace=True)\n",
            "    (5): MaxPool2d(kernel_size=2, stride=2, padding=0, dilation=1, ceil_mode=False)\n",
            "    (6): Conv2d(32, 32, kernel_size=(3, 3), stride=(1, 1), padding=(1, 1))\n",
            "    (7): ReLU(inplace=True)\n",
            "    (8): MaxPool2d(kernel_size=2, stride=2, padding=0, dilation=1, ceil_mode=False)\n",
            "    (9): Conv2d(32, 32, kernel_size=(3, 3), stride=(1, 1), padding=(1, 1))\n",
            "    (10): ReLU(inplace=True)\n",
            "    (11): MaxPool2d(kernel_size=2, stride=2, padding=0, dilation=1, ceil_mode=False)\n",
            "    (12): Conv2d(32, 32, kernel_size=(3, 3), stride=(1, 1), padding=(1, 1))\n",
            "    (13): ReLU(inplace=True)\n",
            "    (14): MaxPool2d(kernel_size=2, stride=2, padding=0, dilation=1, ceil_mode=False)\n",
            "  )\n",
            "  (fc_layers): Sequential(\n",
            "    (0): Linear(in_features=12544, out_features=1024, bias=True)\n",
            "    (1): ReLU(inplace=True)\n",
            "    (2): Linear(in_features=1024, out_features=10, bias=True)\n",
            "  )\n",
            ")\n"
          ]
        }
      ],
      "source": [
        "import torch\n",
        "import torch.nn as nn\n",
        "import torch.nn.functional as F\n",
        "\n",
        "class CNN(nn.Module):\n",
        "    def __init__(self, input_shape, num_classes, num_filters, filter_size, activation_conv, activation_dense, num_neurons_dense):\n",
        "        super(CNN, self).__init__()\n",
        "        self.conv_layers = self._create_conv_layers(input_shape[0], num_filters, filter_size, activation_conv)\n",
        "        self.fc_layers = nn.Sequential(\n",
        "            nn.Linear(256 * 7 * 7, num_neurons_dense),\n",
        "            activation_dense,\n",
        "            nn.Linear(num_neurons_dense, num_classes)\n",
        "        )\n",
        "\n",
        "    def _create_conv_layers(self, input_channels, num_filters, filter_size, activation_conv):\n",
        "        layers = []\n",
        "        in_channels = input_channels\n",
        "        for _ in range(5):  # Reduced to 5 convolutional layers\n",
        "            layers += [\n",
        "                nn.Conv2d(in_channels, num_filters, filter_size, padding=1),\n",
        "                activation_conv,\n",
        "                nn.MaxPool2d(kernel_size=2, stride=2)\n",
        "            ]\n",
        "            in_channels = num_filters\n",
        "        return nn.Sequential(*layers)\n",
        "\n",
        "    def forward(self, x):\n",
        "        x = self.conv_layers(x)\n",
        "        x = x.view(x.size(0), -1)\n",
        "        x = self.fc_layers(x)\n",
        "        return x\n",
        "\n",
        "# Example parameters\n",
        "input_shape = (3, 224, 224)  # Example shape compatible with iNaturalist dataset\n",
        "num_classes = 10  # Number of classes in iNaturalist dataset\n",
        "num_filters = 32  # Number of filters in convolutional layers\n",
        "filter_size = 3  # Size of filters\n",
        "\n",
        "# Define activation functions for convolutional and dense layers\n",
        "activation_conv = nn.ReLU(inplace=True)  # Activation function for convolutional layers\n",
        "activation_dense = nn.ReLU(inplace=True)  # Activation function for dense layer\n",
        "\n",
        "num_neurons_dense = 1024  # Number of neurons in dense layer\n",
        "\n",
        "# Create the model\n",
        "model = CNN(input_shape, num_classes, num_filters, filter_size, activation_conv, activation_dense, num_neurons_dense)\n",
        "\n",
        "# Display model summary\n",
        "print(model)\n",
        "\n",
        "\n"
      ]
    }
  ]
}